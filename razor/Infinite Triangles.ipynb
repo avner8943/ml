import numpy as np
import random 
import matplotlib.pyplot as plt
from matplotlib import colors



substrate = np.zeros((20, 4))




p_a_s = 0.8
p_b_s = 0.3
p_a_a = 0.95
p_a_b = 0.25
p_b_b = 0.995
p_b_a = 0.15

mols = [10*'A',10*'B']
mols_type = ['A','B']

#print(random.choice(mols_type))

while True:

  if len(mols[0]) != 0 and len(mols[1]) != 0:
    moli = random.choice(mols_type)
  elif len(mols[0]) == 0 and len(mols[1]) != 0:
    moli = 'B'
  elif len(mols[0]) != 0 and len(mols[1]) == 0:
    moli = 'A'
  else:
    break

  site_number = np.random.randint(4)

  site = substrate[:,site_number]

  last = np.where(site == 0)[0]

  last_idx = last[0]
  last = int(site[last[0]-1])
  
  r = np.random.random(1)


  if moli == 'A':

    if last == 0 and r <=  p_a_s:
      substrate[last_idx,site_number] = 1
      mols[0] = mols[0].replace('A', '',1)
    elif last == 1 and r <= p_a_a:
      substrate[last_idx,site_number] = 1
      mols[0] = mols[0].replace('A', '',1)
    elif last == 2 and r <= p_a_b:
      substrate[last_idx,site_number] = 1
      mols[0] = mols[0].replace('A', '',1)
    

  else:

    if last == 0 and r <=  p_b_s:
      substrate[last_idx,site_number] = 2
      mols[1] = mols[1].replace('B', '',1)
    elif last == 1 and r <= p_b_b:
      substrate[last_idx,site_number] = 2
      mols[1] = mols[1].replace('B', '',1)
    elif last == 2 and r <= p_b_a:
      substrate[last_idx,site_number] = 2
      mols[1] = mols[1].replace('B', '',1)
print(substrate)



fig, ax = plt.subplots()
ax.matshow(substrate, cmap=plt.cm.Blues)
ax.grid(which='major', axis='both', linestyle='-', color='k', linewidth=2)
ax.set_xticks(np.arange(-.5, 4, 1));
ax.set_yticks(np.arange(-.5, 8, 1));
ax.legend()
