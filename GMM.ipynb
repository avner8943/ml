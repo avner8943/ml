{
  "nbformat": 4,
  "nbformat_minor": 0,
  "metadata": {
    "colab": {
      "name": "Welcome To Colaboratory",
      "provenance": [],
      "collapsed_sections": [],
      "toc_visible": true,
      "include_colab_link": true
    },
    "kernelspec": {
      "display_name": "Python 3",
      "name": "python3"
    }
  },
  "cells": [
    {
      "cell_type": "markdown",
      "metadata": {
        "id": "view-in-github",
        "colab_type": "text"
      },
      "source": [
        "<a href=\"https://colab.research.google.com/github/avner8943/ml/blob/master/GMM.ipynb\" target=\"_parent\"><img src=\"https://colab.research.google.com/assets/colab-badge.svg\" alt=\"Open In Colab\"/></a>"
      ]
    },
    {
      "cell_type": "code",
      "metadata": {
        "id": "knHKBCJfDSzC",
        "colab_type": "code",
        "colab": {}
      },
      "source": [
        "import matplotlib.pyplot as plt\n",
        "from mpl_toolkits.mplot3d import Axes3D\n",
        "from sklearn import datasets\n",
        "import numpy as np\n",
        "from scipy.stats import multivariate_normal\n",
        "from math import pi"
      ],
      "execution_count": 20,
      "outputs": []
    },
    {
      "cell_type": "code",
      "metadata": {
        "id": "bVXG7wPRWcHJ",
        "colab_type": "code",
        "colab": {}
      },
      "source": [
        "iris = datasets.load_iris()\n",
        "X = iris.data\n",
        "\n",
        "init_idx = np.random.choice(X.shape[0],3,replace= False)\n",
        "\n",
        "means = X[init_idx,:]\n",
        "\n",
        "covs = np.zeros((3,4,4))\n",
        "\n",
        "covs[:,:,:] = np.cov(X, rowvar=False)\n",
        "\n",
        "phi = np.zeros((3,1))\n",
        "\n",
        "phi[:] = 1/3\n",
        "\n",
        "memb_mat = np.zeros((X.shape[0],3))\n",
        "\n",
        "def multi_gauss(data,means,cov):\n",
        "\n",
        "    k = means.shape[0]\n",
        "\n",
        "    res = (np.sqrt((2*pi)**k*np.linalg.det(cov))**(-1)*np.exp(-0.5*(data-means).T*cov.T*(data-means))\n",
        "\n",
        "    return res\n",
        "\n",
        "for i, point in enumerate(X):\n",
        "    \n",
        "    gamma = [0]*3\n",
        "\n",
        "    gamma[0] = phi[0]*multi_gauss(point,means[0,:],covs[0,:,:])\n",
        "\n",
        "    gamma[1] = phi[1]*multi_gauss(point,means[1,:],covs[1,:,:])\n",
        "\n",
        "    gamma[2] = phi[2]*multi_gauss(point,means[2,:],covs[2,:,:])\n",
        "\n",
        "    tot_gamma = sum(gamma)\n",
        "\n",
        "    for k in range(3):\n",
        "\n",
        "        memb_mat[i,k] = gamma[k]/tot_gamma\n",
        "\n",
        "\n",
        "    log_like\n",
        "\n",
        "for k in range(3):\n",
        "\n",
        "    phi[k] = np.mean(memb_mat[:,k])\n",
        "\n",
        "    means[k,:] = np.sum(np.multiply(memb_mat[:,k],X), axis=0)/np.sum(memb_mat[:,k])\n",
        "\n",
        "    covs[k,:,:] = np.sum(np.multiply(memb_mat[:,k], (X-means[k,:])**2), axis = 0)/np.sum(memb_mat[:,k])\n",
        "\n",
        "\n",
        "\n",
        "\n",
        "\n",
        "\n"
      ],
      "execution_count": null,
      "outputs": []
    }
  ]
}