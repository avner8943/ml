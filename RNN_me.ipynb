{
  "nbformat": 4,
  "nbformat_minor": 0,
  "metadata": {
    "colab": {
      "name": "Welcome To Colaboratory",
      "provenance": [],
      "collapsed_sections": [],
      "toc_visible": true,
      "include_colab_link": true
    },
    "kernelspec": {
      "display_name": "Python 3",
      "name": "python3"
    }
  },
  "cells": [
    {
      "cell_type": "markdown",
      "metadata": {
        "id": "view-in-github",
        "colab_type": "text"
      },
      "source": [
        "<a href=\"https://colab.research.google.com/github/avner8943/ml/blob/master/RNN_me.ipynb\" target=\"_parent\"><img src=\"https://colab.research.google.com/assets/colab-badge.svg\" alt=\"Open In Colab\"/></a>"
      ]
    },
    {
      "cell_type": "code",
      "metadata": {
        "id": "knHKBCJfDSzC"
      },
      "source": [
        "import copy\n",
        "import numpy as np\n",
        "\n",
        "import matplotlib.pyplot as plt\n"
      ],
      "execution_count": 38,
      "outputs": []
    },
    {
      "cell_type": "code",
      "metadata": {
        "id": "bVXG7wPRWcHJ",
        "outputId": "45c8f612-19ce-477e-8e84-7f2c9c057047",
        "colab": {
          "base_uri": "https://localhost:8080/",
          "height": 264
        }
      },
      "source": [
        "np.random.seed(0)\n",
        "\n",
        "\n",
        " # sigmoid\n",
        "def sig(x):\n",
        "\n",
        "  return 1/(1+np.exp(x))\n",
        "\n",
        "def der_sig(x):\n",
        "\n",
        "  return x*(1-x)\n",
        "\n",
        "\n",
        "bin_len = 8 # 8 digits for each int\n",
        "\n",
        "# list for saving binary repsetantion of int\n",
        "bin_arr = np.unpackbits(np.array([range(2**bin_len)], dtype=np.uint8).T,axis=1)\n",
        "\n",
        "lr = 0.1 # learnning rate\n",
        "\n",
        "# layers dimenions\n",
        "in_dim =2\n",
        "h_dim = 16 # \n",
        "out_dim = 1\n",
        "\n",
        "\n",
        "# initialize\n",
        "w_xh = 2*np.random.random((in_dim,h_dim)) - 1\n",
        "w_yh = 2*np.random.random((h_dim,out_dim)) - 1\n",
        "w_hh = 2*np.random.random((h_dim,h_dim)) - 1\n",
        "\n",
        "\n",
        "\n",
        "# trainning loop\n",
        "iters = 10000\n",
        "max_int = 2**bin_len/2\n",
        "errors = []\n",
        "\n",
        "for i in range(iters):\n",
        "\n",
        "\n",
        "  # net inputs\n",
        "  int_1 = np.random.randint(max_int)\n",
        "  int_1b = bin_arr[int_1]\n",
        "\n",
        "  int_2 = np.random.randint(max_int)\n",
        "  int_2b = bin_arr[int_2]\n",
        "\n",
        "  sum_int = int_1+int_2\n",
        "  sum_intb = bin_arr[sum_int]\n",
        "\n",
        "\n",
        "  # backprpogation arrays\n",
        "  predicts_ders = []\n",
        "\n",
        "  int_1b_r = int_1b[::-1]\n",
        "  int_2b_r = int_2b[::-1]\n",
        "\n",
        "  out_der = []\n",
        "  h_array = []\n",
        "  h_t_old = np.zeros(h_dim)\n",
        "  \n",
        "  over_all_err = 0\n",
        "\n",
        "  for bin in range(bin_len):\n",
        "\n",
        "    x = np.array([int_1b_r[bin],int_2b_r[bin]])\n",
        "    y = sum_intb[bin].reshape((1,1))\n",
        "\n",
        "    h_t = sig(np.dot(h_t_old, w_hh)+np.dot(x,w_xh))\n",
        "    h_array.append(h_t)\n",
        "\n",
        "    y_pred = sig(np.dot(h_t,w_yh))\n",
        "\n",
        "    err = y - y_pred\n",
        "\n",
        "    over_all_err += np.abs(err[0])\n",
        "\n",
        "    out_der.append(err*der_sig(y_pred))\n",
        "\n",
        "    h_t_old = h_t\n",
        "\n",
        "  next_h_delta = np.zeros(h_dim)\n",
        "\n",
        "  h_array = h_array[::-1]\n",
        "  h_array.append(np.zeros(h_dim))\n",
        "  out_der = out_der[::-1]\n",
        "  for bin in range(bin_len):\n",
        "\n",
        "    x = np.array([int_1b[bin], int_2b[bin]]).reshape((1,2))\n",
        "    h_t = h_array[bin].reshape((1,h_dim))\n",
        "    h_t_old  = h_array[bin+1].reshape((1,h_dim))\n",
        "\n",
        "    out_delta = out_der[bin]\n",
        "\n",
        "\n",
        "    h_delta = (next_h_delta.dot(w_hh.T)+ out_delta.dot(w_yh.T))* der_sig(h_t)\n",
        "\n",
        "    w_yh += lr*(h_t.T.dot(out_delta))\n",
        "    w_hh += lr*(h_t_old.T.dot(h_delta))\n",
        "    w_xh += lr*(x.T.dot(h_delta))\n",
        "\n",
        "    next_h_delta = h_delta\n",
        "\n",
        "  errors.append(over_all_err)\n",
        "  \n",
        "\n",
        "plt.plot(list(range(len(errors))), errors,  'bo')\n",
        "plt.show()\n",
        "  \n",
        "\n"
      ],
      "execution_count": 4,
      "outputs": [
        {
          "output_type": "display_data",
          "data": {
            "image/png": "[encoded data removed]",
            "text/plain": [
              "<Figure size 432x288 with 1 Axes>"
            ]
          },
          "metadata": {
            "tags": [],
            "needs_background": "light"
          }
        }
      ]
    },
    {
      "cell_type": "code",
      "metadata": {
        "id": "9abyW0SMsJA1",
        "outputId": "2369d7b7-712c-4df0-8fca-a4fdb8a462a1",
        "colab": {
          "base_uri": "https://localhost:8080/",
          "height": 34
        }
      },
      "source": [
        "int2binary = {}\n",
        "binary_dim = 8\n",
        "\n",
        "largest_number = pow(2,binary_dim)\n",
        "binary = np.unpackbits(\n",
        "    np.array([range(largest_number)],dtype=np.uint8).T,axis=1)\n",
        "for i in range(largest_number):\n",
        "    int2binary[i] = binary[i]\n",
        "\n",
        "print(len(int2binary))"
      ],
      "execution_count": 25,
      "outputs": [
        {
          "output_type": "stream",
          "text": [
            "256\n"
          ],
          "name": "stdout"
        }
      ]
    }
  ]
}