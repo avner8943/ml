{
  "nbformat": 4,
  "nbformat_minor": 0,
  "metadata": {
    "colab": {
      "name": "scratchpad",
      "provenance": []
    },
    "kernelspec": {
      "display_name": "Python 3",
      "name": "python3"
    },
    "accelerator": "GPU"
  },
  "cells": [
    {
      "cell_type": "code",
      "metadata": {
        "id": "lIYdn1woOS1n"
      },
      "source": [
        "import os,cv2,keras\n",
        "import pandas as pd\n",
        "import matplotlib.pyplot as plt\n",
        "import numpy as np\n",
        "import tensorflow as tf\n",
        "import glob\n",
        "from keras.layers import Dense\n",
        "from keras import Model\n",
        "from keras import optimizers\n",
        "from keras.preprocessing.image import ImageDataGenerator\n",
        "from keras.optimizers import Adam\n",
        "from keras.applications.vgg16 import VGG16\n",
        "vggmodel = VGG16(weights='imagenet', include_top=True)\n",
        "\n",
        "\n"
      ],
      "execution_count": 68,
      "outputs": []
    },
    {
      "cell_type": "code",
      "metadata": {
        "id": "a8bxsAsDXBIv"
      },
      "source": [
        "def IOU(box1, box2):\n",
        "\n",
        "\n",
        "    x_l = max(box1[0], box2[0]) # left overlapping\n",
        "    y_u = max(box1[1], box2[1]) # up overlapping\n",
        "    x_r = min(box1[2], box2[2])\n",
        "    y_d = min(box1[3], box2[3])\n",
        "\n",
        "\n",
        "    if x_r < x_l or y_d < y_u:\n",
        "        \n",
        "        # no overlapping\n",
        "        return 0\n",
        "\n",
        "    s = (x_r - x_l) * (y_d - y_u) # overlapping area\n",
        "\n",
        "    # boxes areas\n",
        "    s1 = (box1[2] - box1[0]) * (box1[3] - box1[1])\n",
        "    s2 = (box2[2] - box2[0]) * (box2[3] - box2[1])\n",
        "\n",
        "    iou = s / float(s1 + s2 - s)\n",
        "\n",
        "    return iou"
      ],
      "execution_count": 48,
      "outputs": []
    },
    {
      "cell_type": "code",
      "metadata": {
        "id": "lD7WbHTfXCVe",
        "outputId": "e551af50-425d-4589-8f96-c158a5ee6def",
        "colab": {
          "base_uri": "https://localhost:8080/",
          "height": 238
        }
      },
      "source": [
        "ss = cv2.ximgproc.segmentation.createSelectiveSearchSegmentation()\n",
        "\n",
        "train_images=[]\n",
        "train_labels=[]\n",
        "\n",
        "files = glob.glob('data*.csv')\n",
        "for e,i in enumerate(os.listdir(annot)):\n",
        "    try:\n",
        "        if i.startswith(\"airplane\"):\n",
        "            filename = i.split(\".\")[0]+\".jpg\"\n",
        "            print(e,filename)\n",
        "            image = cv2.imread(os.path.join(path,filename))\n",
        "            df = pd.read_csv(os.path.join(annot,i))\n",
        "            gtvalues=[]\n",
        "            for row in df.iterrows():\n",
        "                x1 = int(row[1][0].split(\" \")[0])\n",
        "                y1 = int(row[1][0].split(\" \")[1])\n",
        "                x2 = int(row[1][0].split(\" \")[2])\n",
        "                y2 = int(row[1][0].split(\" \")[3])\n",
        "                gtvalues.append({\"x1\":x1,\"x2\":x2,\"y1\":y1,\"y2\":y2})\n",
        "            ss.setBaseImage(image)\n",
        "            ss.switchToSelectiveSearchFast()\n",
        "            ssresults = ss.process()\n",
        "            imout = image.copy()\n",
        "            counter = 0\n",
        "            falsecounter = 0\n",
        "            flag = 0\n",
        "            fflag = 0\n",
        "            bflag = 0\n",
        "            for e,result in enumerate(ssresults):\n",
        "                if e < 2000 and flag == 0:\n",
        "                    for gtval in gtvalues:\n",
        "                        x,y,w,h = result\n",
        "                        iou = get_iou(gtval,{\"x1\":x,\"x2\":x+w,\"y1\":y,\"y2\":y+h})\n",
        "                        if counter < 30:\n",
        "                            if iou > 0.70:\n",
        "                                timage = imout[y:y+h,x:x+w]\n",
        "                                resized = cv2.resize(timage, (224,224), interpolation = cv2.INTER_AREA)\n",
        "                                train_images.append(resized)\n",
        "                                train_labels.append(1)\n",
        "                                counter += 1\n",
        "                        else :\n",
        "                            fflag =1\n",
        "                        if falsecounter <30:\n",
        "                            if iou < 0.3:\n",
        "                                timage = imout[y:y+h,x:x+w]\n",
        "                                resized = cv2.resize(timage, (224,224), interpolation = cv2.INTER_AREA)\n",
        "                                train_images.append(resized)\n",
        "                                train_labels.append(0)\n",
        "                                falsecounter += 1\n",
        "                        else :\n",
        "                            bflag = 1\n",
        "                    if fflag == 1 and bflag == 1:\n",
        "                        print(\"inside\")\n",
        "                        flag = 1\n",
        "    except Exception as e:\n",
        "        print(e)\n",
        "        print(\"error in \"+filename)\n",
        "        continue"
      ],
      "execution_count": 47,
      "outputs": [
        {
          "output_type": "error",
          "ename": "NameError",
          "evalue": "ignored",
          "traceback": [
            "\u001b[0;31m---------------------------------------------------------------------------\u001b[0m",
            "\u001b[0;31mNameError\u001b[0m                                 Traceback (most recent call last)",
            "\u001b[0;32m<ipython-input-47-cb4338707f1f>\u001b[0m in \u001b[0;36m<module>\u001b[0;34m()\u001b[0m\n\u001b[1;32m      5\u001b[0m \u001b[0;34m\u001b[0m\u001b[0m\n\u001b[1;32m      6\u001b[0m \u001b[0mfiles\u001b[0m \u001b[0;34m=\u001b[0m \u001b[0mglob\u001b[0m\u001b[0;34m.\u001b[0m\u001b[0mglob\u001b[0m\u001b[0;34m(\u001b[0m\u001b[0;34m'data*.csv'\u001b[0m\u001b[0;34m)\u001b[0m\u001b[0;34m\u001b[0m\u001b[0;34m\u001b[0m\u001b[0m\n\u001b[0;32m----> 7\u001b[0;31m \u001b[0;32mfor\u001b[0m \u001b[0me\u001b[0m\u001b[0;34m,\u001b[0m\u001b[0mi\u001b[0m \u001b[0;32min\u001b[0m \u001b[0menumerate\u001b[0m\u001b[0;34m(\u001b[0m\u001b[0mos\u001b[0m\u001b[0;34m.\u001b[0m\u001b[0mlistdir\u001b[0m\u001b[0;34m(\u001b[0m\u001b[0mannot\u001b[0m\u001b[0;34m)\u001b[0m\u001b[0;34m)\u001b[0m\u001b[0;34m:\u001b[0m\u001b[0;34m\u001b[0m\u001b[0;34m\u001b[0m\u001b[0m\n\u001b[0m\u001b[1;32m      8\u001b[0m     \u001b[0;32mtry\u001b[0m\u001b[0;34m:\u001b[0m\u001b[0;34m\u001b[0m\u001b[0;34m\u001b[0m\u001b[0m\n\u001b[1;32m      9\u001b[0m         \u001b[0;32mif\u001b[0m \u001b[0mi\u001b[0m\u001b[0;34m.\u001b[0m\u001b[0mstartswith\u001b[0m\u001b[0;34m(\u001b[0m\u001b[0;34m\"airplane\"\u001b[0m\u001b[0;34m)\u001b[0m\u001b[0;34m:\u001b[0m\u001b[0;34m\u001b[0m\u001b[0;34m\u001b[0m\u001b[0m\n",
            "\u001b[0;31mNameError\u001b[0m: name 'annot' is not defined"
          ]
        }
      ]
    },
    {
      "cell_type": "code",
      "metadata": {
        "id": "sbgeOgmQY00d",
        "outputId": "d529a257-6d37-4ad4-c1fb-8b114c1a82be",
        "colab": {
          "base_uri": "https://localhost:8080/",
          "height": 176
        }
      },
      "source": [
        "selective_search = cv2.ximgproc.segmentation.createSelectiveSearchSegmentation()\n",
        "\n",
        "train_images=[]\n",
        "train_labels=[]\n",
        "\n",
        "\n",
        "my_cols = [\"x1\", \"y1\", \"x2\", \"y2\"]\n",
        "\n",
        "images = [cv2.imread(im) for im in sorted(glob.glob(\"/content/sample_data/rcnn/airplane*.jpg\"))]\n",
        "labels = [pd.read_csv(csv, names = my_cols, engine='python', skiprows=[0], delimiter=\" \") for csv in sorted(glob.glob('/content/sample_data/rcnn/airplane*.csv'))] \n",
        "\n",
        "\n",
        "\n",
        "im = images[0]\n",
        "df = labels[0]\n",
        "print(df.shape, df)\n",
        "x = np.array(df['x1'])\n",
        "print(labels[0].head)\n",
        "print(x)\n"
      ],
      "execution_count": 49,
      "outputs": [
        {
          "output_type": "stream",
          "text": [
            "(3, 4)     x1   y1   x2   y2\n",
            "0  173   15  232   70\n",
            "1   49   76  139  153\n",
            "2    4  164   93  244\n",
            "<bound method NDFrame.head of     x1   y1   x2   y2\n",
            "0  173   15  232   70\n",
            "1   49   76  139  153\n",
            "2    4  164   93  244>\n",
            "[173  49   4]\n"
          ],
          "name": "stdout"
        }
      ]
    },
    {
      "cell_type": "code",
      "metadata": {
        "id": "zUxfxWdPff64",
        "outputId": "500b01d5-e574-4f08-f368-4525677ac950",
        "colab": {
          "base_uri": "https://localhost:8080/",
          "height": 87
        }
      },
      "source": [
        "for i in range(len(images)):\n",
        "\n",
        "  im = images[i]\n",
        "  df = labels[i]\n",
        "  #print(im.shape)\n",
        "  x1 = df['x1']\n",
        "  y1 = df['y1']\n",
        "  x2 = df['x2']\n",
        "  y2 = df['y2']\n",
        "\n",
        "  selective_search.setBaseImage(im)\n",
        "  selective_search.switchToSelectiveSearchFast()\n",
        "  proposals = selective_search.process()\n",
        "  proposals = proposals[0:max(len(proposals), 2000)]\n",
        "  #print(len(proposals))\n",
        "  im2 = im.copy()\n",
        "\n",
        "  count_1 = 0\n",
        "  count_0 = 0\n",
        "\n",
        "  for prop in proposals:\n",
        "\n",
        "    if count_1 ==30 and count_0 == 30: break\n",
        "\n",
        "    for box in df.itertuples():\n",
        "      \n",
        "      box1 = [box.x1, box.y1, box.x2, box.y2]\n",
        "      x,y,w,h = prop\n",
        "\n",
        "      iou = IOU(box, prop)\n",
        "\n",
        "      if iou > 0.7 and count_1 < 30:\n",
        "\n",
        "        count_1 += 1\n",
        "\n",
        "        temp_im = im2[y:y+h,x:x+w]\n",
        "        im_small = cv2.resize(temp_im, (224,224), interpolation = cv2.INTER_AREA)\n",
        "\n",
        "        train_images.append(im_small)\n",
        "        train_labels.append(1)\n",
        "\n",
        "\n",
        "      elif iou < 0.3 and count_0 < 30:\n",
        "\n",
        "        count_0 += 1\n",
        "\n",
        "        temp_im = im2[y:y+h,x:x+w]\n",
        "        im_small = cv2.resize(temp_im, (224,224), interpolation = cv2.INTER_AREA)\n",
        "\n",
        "        train_images.append(im_small)\n",
        "        train_labels.append(0)\n",
        "\n"
      ],
      "execution_count": 54,
      "outputs": [
        {
          "output_type": "stream",
          "text": [
            "(256, 256, 3)\n",
            "(256, 256, 3)\n",
            "(256, 256, 3)\n",
            "(256, 256, 3)\n"
          ],
          "name": "stdout"
        }
      ]
    },
    {
      "cell_type": "code",
      "metadata": {
        "id": "jtI_oRu9tP2P",
        "outputId": "73e11919-c0b9-4adb-9cb8-6c3bf1b475bd",
        "colab": {
          "base_uri": "https://localhost:8080/",
          "height": 301
        }
      },
      "source": [
        "X_new = np.array(train_images)\n",
        "y_new = np.array(train_labels)\n",
        "\n",
        "for layers in (vggmodel.layers)[:15]:\n",
        "    print(layers)\n",
        "    layers.trainable = False\n",
        "X = vggmodel.layers[-2].output\n",
        "predictions = Dense(2, activation=\"softmax\")(X)\n",
        "model_final = Model(inputs = vggmodel.input, outputs = predictions)\n",
        "opt = Adam(lr=0.0001)\n",
        "model_final.compile(loss = keras.losses.categorical_crossentropy, optimizer = opt, metrics=[\"accuracy\"])\n",
        "#model_final.summary()\n",
        "\n",
        "\n",
        "idx = np.random.rand(X_new.shape[0]) < 0.9\n",
        "x_train = X_new[idx]\n",
        "y_train = y_new[idx].reshape(-1,1)\n",
        "x_test = X_new[~idx]\n",
        "y_test = y_new[~idx].reshape(-1,1)\n",
        "print(y_train.shape,x_train.shape,y_test.shape,x_test.shape)"
      ],
      "execution_count": 91,
      "outputs": [
        {
          "output_type": "stream",
          "text": [
            "<tensorflow.python.keras.engine.input_layer.InputLayer object at 0x7fccf43d3f28>\n",
            "<tensorflow.python.keras.layers.convolutional.Conv2D object at 0x7fccf43d32b0>\n",
            "<tensorflow.python.keras.layers.convolutional.Conv2D object at 0x7fccffc3e7f0>\n",
            "<tensorflow.python.keras.layers.pooling.MaxPooling2D object at 0x7fccf43d3ac8>\n",
            "<tensorflow.python.keras.layers.convolutional.Conv2D object at 0x7fccf44297f0>\n",
            "<tensorflow.python.keras.layers.convolutional.Conv2D object at 0x7fccf4423c50>\n",
            "<tensorflow.python.keras.layers.pooling.MaxPooling2D object at 0x7fccf4423860>\n",
            "<tensorflow.python.keras.layers.convolutional.Conv2D object at 0x7fccfba60668>\n",
            "<tensorflow.python.keras.layers.convolutional.Conv2D object at 0x7fcd2f726400>\n",
            "<tensorflow.python.keras.layers.convolutional.Conv2D object at 0x7fccfc146780>\n",
            "<tensorflow.python.keras.layers.pooling.MaxPooling2D object at 0x7fcd2f725dd8>\n",
            "<tensorflow.python.keras.layers.convolutional.Conv2D object at 0x7fccfba64748>\n",
            "<tensorflow.python.keras.layers.convolutional.Conv2D object at 0x7fccf40e7320>\n",
            "<tensorflow.python.keras.layers.convolutional.Conv2D object at 0x7fccf40e7358>\n",
            "<tensorflow.python.keras.layers.pooling.MaxPooling2D object at 0x7fccf40dac50>\n",
            "(331, 1) (331, 224, 224, 3) (32, 1) (32, 224, 224, 3)\n"
          ],
          "name": "stdout"
        }
      ]
    },
    {
      "cell_type": "code",
      "metadata": {
        "id": "4yVa01MRFSc8",
        "outputId": "ea016a6b-a32a-4003-ff5f-94579cac4d87",
        "colab": {
          "base_uri": "https://localhost:8080/",
          "height": 34
        }
      },
      "source": [
        "trdata = ImageDataGenerator(horizontal_flip=True, vertical_flip=True, rotation_range=90)\n",
        "traindata = trdata.flow(x=x_train, y=y_train)\n",
        "print(traindata)\n",
        "tsdata = ImageDataGenerator(horizontal_flip=True, vertical_flip=True, rotation_range=90)\n",
        "testdata = tsdata.flow(x=x_test, y=y_test)"
      ],
      "execution_count": 92,
      "outputs": [
        {
          "output_type": "stream",
          "text": [
            "<tensorflow.python.keras.preprocessing.image.NumpyArrayIterator object at 0x7fcce33956d8>\n"
          ],
          "name": "stdout"
        }
      ]
    },
    {
      "cell_type": "code",
      "metadata": {
        "id": "2QMYa3-fFpVZ",
        "outputId": "530bfd79-606d-4c2c-a776-e40c8bfe601e",
        "colab": {
          "base_uri": "https://localhost:8080/",
          "height": 185
        }
      },
      "source": [
        "hist = model_final.fit_generator(generator= traindata, steps_per_epoch= 10, epochs= 1000, validation_data= testdata, validation_steps=2)"
      ],
      "execution_count": 1,
      "outputs": [
        {
          "output_type": "error",
          "ename": "NameError",
          "evalue": "ignored",
          "traceback": [
            "\u001b[0;31m---------------------------------------------------------------------------\u001b[0m",
            "\u001b[0;31mNameError\u001b[0m                                 Traceback (most recent call last)",
            "\u001b[0;32m<ipython-input-1-966ac8d4f7ed>\u001b[0m in \u001b[0;36m<module>\u001b[0;34m()\u001b[0m\n\u001b[0;32m----> 1\u001b[0;31m \u001b[0mhist\u001b[0m \u001b[0;34m=\u001b[0m \u001b[0mmodel_final\u001b[0m\u001b[0;34m.\u001b[0m\u001b[0mfit_generator\u001b[0m\u001b[0;34m(\u001b[0m\u001b[0mgenerator\u001b[0m\u001b[0;34m=\u001b[0m \u001b[0mtraindata\u001b[0m\u001b[0;34m,\u001b[0m \u001b[0msteps_per_epoch\u001b[0m\u001b[0;34m=\u001b[0m \u001b[0;36m10\u001b[0m\u001b[0;34m,\u001b[0m \u001b[0mepochs\u001b[0m\u001b[0;34m=\u001b[0m \u001b[0;36m1000\u001b[0m\u001b[0;34m,\u001b[0m \u001b[0mvalidation_data\u001b[0m\u001b[0;34m=\u001b[0m \u001b[0mtestdata\u001b[0m\u001b[0;34m,\u001b[0m \u001b[0mvalidation_steps\u001b[0m\u001b[0;34m=\u001b[0m\u001b[0;36m2\u001b[0m\u001b[0;34m)\u001b[0m\u001b[0;34m\u001b[0m\u001b[0;34m\u001b[0m\u001b[0m\n\u001b[0m",
            "\u001b[0;31mNameError\u001b[0m: name 'model_final' is not defined"
          ]
        }
      ]
    }
  ]
}